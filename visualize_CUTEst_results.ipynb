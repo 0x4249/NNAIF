{
 "cells": [
  {
   "cell_type": "code",
   "execution_count": 1,
   "id": "2d500015",
   "metadata": {},
   "outputs": [],
   "source": [
    "from haven import haven_jupyter as hj\n",
    "from haven import haven_results as hr\n",
    "from haven import haven_utils as hu"
   ]
  },
  {
   "cell_type": "code",
   "execution_count": 2,
   "id": "e725031f",
   "metadata": {},
   "outputs": [],
   "source": [
    "# Path to saved experiments\n",
    "save_directory_base = \"/home/birwin/Desktop/testing/Experiments\"\n",
    "\n",
    "# Read experiment config\n",
    "exp_config_filename = \"/home/birwin/Desktop/testing/NNAIF/exp_configs\"\n",
    "config = hu.load_py(exp_config_filename)\n",
    "\n",
    "# Set benchmarks to load\n",
    "benchmarks = [\"CUTEst Scaled Noise\"]\n",
    "\n",
    "# Load experiments\n",
    "exp_list = []\n",
    "for exp_group_name in benchmarks:\n",
    "    \n",
    "    # Load low dimensional experiments\n",
    "    exp_list += config.LOW_DIM_CUTEST_EXPS[exp_group_name]\n",
    "    \n",
    "    # Load medium dimensional experiments\n",
    "    #exp_list += config.MED_DIM_CUTEST_EXPS[exp_group_name]\n",
    "    \n",
    "    # Load high dimensional experiments\n",
    "    #exp_list += config.HIGH_DIM_CUTEST_EXPS[exp_group_name]\n",
    "    \n",
    "    # Load very high dimensional experiments\n",
    "    #exp_list += config.VERY_HIGH_DIM_CUTEST_EXPS[exp_group_name]\n"
   ]
  },
  {
   "cell_type": "code",
   "execution_count": 3,
   "id": "ac54599c",
   "metadata": {},
   "outputs": [],
   "source": [
    "rm = hr.ResultManager(exp_list=exp_list,\n",
    "                      savedir_base=save_directory_base)"
   ]
  },
  {
   "cell_type": "code",
   "execution_count": 4,
   "id": "75320da5",
   "metadata": {
    "scrolled": false
   },
   "outputs": [
    {
     "data": {
      "application/vnd.jupyter.widget-view+json": {
       "model_id": "4f10924a694d4250999e4530679df54f",
       "version_major": 2,
       "version_minor": 0
      },
      "text/plain": [
       "Label(value='Loading Dashboard...', layout=Layout(width='800px'))"
      ]
     },
     "metadata": {},
     "output_type": "display_data"
    },
    {
     "data": {
      "application/javascript": [
       "\n",
       "        require.config({\n",
       "            paths: {\n",
       "                DT: '//cdn.datatables.net/1.10.19/js/jquery.dataTables.min',\n",
       "            }\n",
       "        });\n",
       "        $('head').append('<link rel=\"stylesheet\" type=\"text/css\" href=\"//cdn.datatables.net/1.10.19/css/jquery.dataTables.min.css\">');\n",
       "    "
      ],
      "text/plain": [
       "<IPython.core.display.Javascript object>"
      ]
     },
     "metadata": {},
     "output_type": "display_data"
    },
    {
     "data": {
      "application/vnd.jupyter.widget-view+json": {
       "model_id": "bbf229777ce44bf0932e2581e708b7f6",
       "version_major": 2,
       "version_minor": 0
      },
      "text/plain": [
       "Output()"
      ]
     },
     "metadata": {},
     "output_type": "display_data"
    },
    {
     "data": {
      "text/html": [
       "\n",
       "        <style>\n",
       "            .output_scroll {\n",
       "                height: unset !important;\n",
       "                border-radius: unset !important;\n",
       "                -webkit-box-shadow: unset !important;\n",
       "                box-shadow: unset !important;\n",
       "            }\n",
       "        </style>\n",
       "        "
      ],
      "text/plain": [
       "<IPython.core.display.HTML object>"
      ]
     },
     "metadata": {},
     "output_type": "display_data"
    },
    {
     "data": {
      "text/plain": [
       "<haven.haven_jupyter.DashboardManager at 0x7f44b82f0e50>"
      ]
     },
     "execution_count": 4,
     "metadata": {},
     "output_type": "execute_result"
    }
   ],
   "source": [
    "hj.get_dashboard(rm, vars())"
   ]
  },
  {
   "cell_type": "code",
   "execution_count": null,
   "id": "bad62dc5",
   "metadata": {},
   "outputs": [],
   "source": []
  }
 ],
 "metadata": {
  "@webio": {
   "lastCommId": null,
   "lastKernelId": null
  },
  "kernelspec": {
   "display_name": "Python 3 (ipykernel)",
   "language": "python",
   "name": "python3"
  },
  "language_info": {
   "codemirror_mode": {
    "name": "ipython",
    "version": 3
   },
   "file_extension": ".py",
   "mimetype": "text/x-python",
   "name": "python",
   "nbconvert_exporter": "python",
   "pygments_lexer": "ipython3",
   "version": "3.8.15"
  }
 },
 "nbformat": 4,
 "nbformat_minor": 5
}
